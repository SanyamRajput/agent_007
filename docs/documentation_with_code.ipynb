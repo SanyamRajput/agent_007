{
 "cells": [
  {
   "metadata": {
    "ExecuteTime": {
     "end_time": "2025-05-29T11:20:35.031050Z",
     "start_time": "2025-05-29T11:20:35.022164Z"
    }
   },
   "cell_type": "code",
   "source": [
    "from langgraph.graph import StateGraph, END\n",
    "from langchain_core.messages import HumanMessage, AIMessage, SystemMessage\n",
    "from langchain_community.chat_models import ChatOllama\n",
    "from typing import TypedDict, Annotated, Sequence\n",
    "from operator import add\n",
    "\n"
   ],
   "id": "9205737a300b487",
   "outputs": [],
   "execution_count": 23
  },
  {
   "metadata": {
    "ExecuteTime": {
     "end_time": "2025-05-29T11:20:35.806254Z",
     "start_time": "2025-05-29T11:20:35.799721Z"
    }
   },
   "cell_type": "code",
   "source": [
    "\n",
    "class AgentState(TypedDict):\n",
    "    message: Annotated[Sequence[HumanMessage | AIMessage], add]"
   ],
   "id": "3025325ff6a94ac7",
   "outputs": [],
   "execution_count": 24
  },
  {
   "metadata": {
    "ExecuteTime": {
     "end_time": "2025-05-29T11:20:36.364699Z",
     "start_time": "2025-05-29T11:20:36.356469Z"
    }
   },
   "cell_type": "code",
   "source": [
    "llm_model = ChatOllama(model=\"deepseek-r1\", temperature=0.5)\n",
    "sys_prompt = SystemMessage(\n",
    "    content=\"You are a helpful, general-purpose AI assistant. Answer clearly and politely.\"\n",
    ")\n"
   ],
   "id": "8225c3c56706b6ba",
   "outputs": [],
   "execution_count": 25
  },
  {
   "metadata": {
    "ExecuteTime": {
     "end_time": "2025-05-29T11:20:36.850144Z",
     "start_time": "2025-05-29T11:20:36.843422Z"
    }
   },
   "cell_type": "code",
   "source": [
    "def llm_node(state: AgentState) -> AgentState:\n",
    "    messages = [sys_prompt] + list(state[\"message\"])\n",
    "    response = llm_model.invoke(messages)\n",
    "    return {\"messages\": [response]}"
   ],
   "id": "4af414985a9c00bc",
   "outputs": [],
   "execution_count": 26
  },
  {
   "metadata": {
    "ExecuteTime": {
     "end_time": "2025-05-29T11:20:37.329018Z",
     "start_time": "2025-05-29T11:20:37.320566Z"
    }
   },
   "cell_type": "code",
   "source": [
    "graph = StateGraph(AgentState)\n",
    "graph.add_node(\"llm_model\", llm_node)\n",
    "graph.set_entry_point(\"llm_model\")\n",
    "graph.set_entry_point(\"llm_model\")\n",
    "\n",
    "bot = graph.compile()"
   ],
   "id": "a9d28a24e8f8ceca",
   "outputs": [],
   "execution_count": 27
  },
  {
   "metadata": {
    "ExecuteTime": {
     "end_time": "2025-05-29T11:20:37.871869Z",
     "start_time": "2025-05-29T11:20:37.858855Z"
    }
   },
   "cell_type": "code",
   "source": [
    "def run_bot():\n",
    "    print(\"agent007_bot\")\n",
    "    history = []\n",
    "\n",
    "    while True:\n",
    "        user_input = input(\"\\nYou: \")\n",
    "        if user_input.lower() in [\"exit\",\"bye\"]:\n",
    "            break\n",
    "\n",
    "        user_msg = HumanMessage(content=user_input)\n",
    "        history.apped(user_msg)\n",
    "\n",
    "        result = chat_agent.invoke({\"messages\": history})\n",
    "        ai_msg = result[\"messages\"][-1]\n",
    "        print(f\"\\n 007: {ai_msg.content}\")\n",
    "\n",
    "        history.append(ai_msg)\n",
    "\n",
    "run_bot"
   ],
   "id": "4739a66057b551f4",
   "outputs": [
    {
     "data": {
      "text/plain": [
       "<function __main__.run_bot()>"
      ]
     },
     "execution_count": 28,
     "metadata": {},
     "output_type": "execute_result"
    }
   ],
   "execution_count": 28
  },
  {
   "metadata": {},
   "cell_type": "code",
   "outputs": [],
   "execution_count": null,
   "source": "",
   "id": "3189f48ffe9c4e44"
  }
 ],
 "metadata": {
  "kernelspec": {
   "display_name": "Python 3",
   "language": "python",
   "name": "python3"
  },
  "language_info": {
   "codemirror_mode": {
    "name": "ipython",
    "version": 2
   },
   "file_extension": ".py",
   "mimetype": "text/x-python",
   "name": "python",
   "nbconvert_exporter": "python",
   "pygments_lexer": "ipython2",
   "version": "2.7.6"
  }
 },
 "nbformat": 4,
 "nbformat_minor": 5
}
